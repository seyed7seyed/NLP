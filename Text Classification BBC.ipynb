{
 "cells": [
  {
   "cell_type": "markdown",
   "metadata": {},
   "source": [
    "#   \n",
    "<span style=\"font-family:Arial; font-weight:Bold; font-size:2.3em; color:#00b3e5;\"> NLP Project: Text Classification (BBC)"
   ]
  },
  {
   "cell_type": "markdown",
   "metadata": {},
   "source": [
    "#####      \n",
    "<span style=\"font-family:Arial; font-weight:Bold; font-size:1.8em; color:#00b3e5;\"> loading libraries  "
   ]
  },
  {
   "cell_type": "code",
   "execution_count": 1,
   "metadata": {},
   "outputs": [],
   "source": [
    "import numpy  as np\n",
    "import pandas as pd\n",
    "\n",
    "import seaborn as sns\n",
    "import matplotlib.pyplot as plt\n",
    "\n",
    "import re #, string, unicodedata\n",
    "#from   bs4 import BeautifulSoup\n",
    "\n",
    "#from   textblob  import TextBlob, Word\n",
    "from   wordcloud import WordCloud, STOPWORDS, ImageColorGenerator\n",
    "#import spacy\n",
    "\n",
    "#from sklearn.svm           import SVC\n",
    "#from sklearn.naive_bayes   import MultinomialNB\n",
    "#from sklearn.preprocessing import LabelBinarizer\n",
    "from sklearn.linear_model  import LogisticRegression, SGDClassifier\n",
    "from sklearn               import model_selection, preprocessing, naive_bayes, ensemble \n",
    "from sklearn.decomposition import NMF, LatentDirichletAllocation, TruncatedSVD\n",
    "from sklearn.metrics       import classification_report, confusion_matrix, accuracy_score\n",
    "from sklearn.feature_extraction.text import CountVectorizer, TfidfVectorizer"
   ]
  },
  {
   "cell_type": "code",
   "execution_count": 2,
   "metadata": {},
   "outputs": [
    {
     "name": "stderr",
     "output_type": "stream",
     "text": [
      "[nltk_data] Downloading package punkt to C:\\Users\\EZ-\n",
      "[nltk_data]     Tech\\AppData\\Roaming\\nltk_data...\n",
      "[nltk_data]   Package punkt is already up-to-date!\n",
      "[nltk_data] Downloading package stopwords to C:\\Users\\EZ-\n",
      "[nltk_data]     Tech\\AppData\\Roaming\\nltk_data...\n",
      "[nltk_data]   Package stopwords is already up-to-date!\n",
      "[nltk_data] Downloading package wordnet to C:\\Users\\EZ-\n",
      "[nltk_data]     Tech\\AppData\\Roaming\\nltk_data...\n",
      "[nltk_data]   Package wordnet is already up-to-date!\n"
     ]
    }
   ],
   "source": [
    "import nltk   # pip install --upgrade nltk\n",
    "\n",
    "nltk.download('punkt')\n",
    "#from nltk.tokenize.toktok import ToktokTokenizer\n",
    "#from nltk.tokenize        import word_tokenize, sent_tokenize\n",
    "\n",
    "nltk.download('stopwords') \n",
    "from nltk.corpus           import stopwords\n",
    "\n",
    "nltk.download('wordnet')\n",
    "from nltk.stem             import WordNetLemmatizer \n",
    "\n",
    "#from nltk.stem            import LancasterStemmer \n",
    "#from nltk.stem.porter     import PorterStemmer"
   ]
  },
  {
   "cell_type": "markdown",
   "metadata": {},
   "source": [
    "#####      \n",
    "<span style=\"font-family:Arial; font-weight:Bold; font-size:1.8em; color:#00b3e5;\"> loading dataset"
   ]
  },
  {
   "cell_type": "code",
   "execution_count": 3,
   "metadata": {
    "scrolled": true
   },
   "outputs": [
    {
     "data": {
      "text/html": [
       "<div>\n",
       "<style scoped>\n",
       "    .dataframe tbody tr th:only-of-type {\n",
       "        vertical-align: middle;\n",
       "    }\n",
       "\n",
       "    .dataframe tbody tr th {\n",
       "        vertical-align: top;\n",
       "    }\n",
       "\n",
       "    .dataframe thead th {\n",
       "        text-align: right;\n",
       "    }\n",
       "</style>\n",
       "<table border=\"1\" class=\"dataframe\">\n",
       "  <thead>\n",
       "    <tr style=\"text-align: right;\">\n",
       "      <th></th>\n",
       "      <th>category</th>\n",
       "      <th>text</th>\n",
       "    </tr>\n",
       "  </thead>\n",
       "  <tbody>\n",
       "    <tr>\n",
       "      <th>0</th>\n",
       "      <td>tech</td>\n",
       "      <td>tv future in the hands of viewers with home th...</td>\n",
       "    </tr>\n",
       "  </tbody>\n",
       "</table>\n",
       "</div>"
      ],
      "text/plain": [
       "  category                                               text\n",
       "0     tech  tv future in the hands of viewers with home th..."
      ]
     },
     "execution_count": 3,
     "metadata": {},
     "output_type": "execute_result"
    }
   ],
   "source": [
    "data = pd.read_csv('bbcText.csv',delimiter=',')\n",
    "data.head(1)"
   ]
  },
  {
   "cell_type": "code",
   "execution_count": 4,
   "metadata": {},
   "outputs": [
    {
     "data": {
      "text/html": [
       "<div>\n",
       "<style scoped>\n",
       "    .dataframe tbody tr th:only-of-type {\n",
       "        vertical-align: middle;\n",
       "    }\n",
       "\n",
       "    .dataframe tbody tr th {\n",
       "        vertical-align: top;\n",
       "    }\n",
       "\n",
       "    .dataframe thead th {\n",
       "        text-align: right;\n",
       "    }\n",
       "</style>\n",
       "<table border=\"1\" class=\"dataframe\">\n",
       "  <thead>\n",
       "    <tr style=\"text-align: right;\">\n",
       "      <th></th>\n",
       "      <th>text</th>\n",
       "      <th>label</th>\n",
       "    </tr>\n",
       "  </thead>\n",
       "  <tbody>\n",
       "    <tr>\n",
       "      <th>0</th>\n",
       "      <td>tv future in the hands of viewers with home th...</td>\n",
       "      <td>tech</td>\n",
       "    </tr>\n",
       "    <tr>\n",
       "      <th>1</th>\n",
       "      <td>worldcom boss  left books alone  former worldc...</td>\n",
       "      <td>business</td>\n",
       "    </tr>\n",
       "    <tr>\n",
       "      <th>2</th>\n",
       "      <td>tigers wary of farrell  gamble  leicester say ...</td>\n",
       "      <td>sport</td>\n",
       "    </tr>\n",
       "    <tr>\n",
       "      <th>3</th>\n",
       "      <td>yeading face newcastle in fa cup premiership s...</td>\n",
       "      <td>sport</td>\n",
       "    </tr>\n",
       "    <tr>\n",
       "      <th>4</th>\n",
       "      <td>ocean s twelve raids box office ocean s twelve...</td>\n",
       "      <td>entertainment</td>\n",
       "    </tr>\n",
       "  </tbody>\n",
       "</table>\n",
       "</div>"
      ],
      "text/plain": [
       "                                                text          label\n",
       "0  tv future in the hands of viewers with home th...           tech\n",
       "1  worldcom boss  left books alone  former worldc...       business\n",
       "2  tigers wary of farrell  gamble  leicester say ...          sport\n",
       "3  yeading face newcastle in fa cup premiership s...          sport\n",
       "4  ocean s twelve raids box office ocean s twelve...  entertainment"
      ]
     },
     "execution_count": 4,
     "metadata": {},
     "output_type": "execute_result"
    }
   ],
   "source": [
    "data = data.rename( columns={'category':'label'} )\n",
    "data = data[ ['text','label'] ]\n",
    "data.head()"
   ]
  },
  {
   "cell_type": "markdown",
   "metadata": {},
   "source": [
    "#####      \n",
    "<span style=\"font-family:Arial; font-weight:Bold; font-size:1.8em; color:#00b3e5;\"> EDA"
   ]
  },
  {
   "cell_type": "code",
   "execution_count": 5,
   "metadata": {
    "scrolled": false
   },
   "outputs": [
    {
     "data": {
      "text/plain": [
       "(2225, 2)"
      ]
     },
     "execution_count": 5,
     "metadata": {},
     "output_type": "execute_result"
    }
   ],
   "source": [
    "data.shape"
   ]
  },
  {
   "cell_type": "code",
   "execution_count": 6,
   "metadata": {},
   "outputs": [
    {
     "name": "stdout",
     "output_type": "stream",
     "text": [
      "Before Treatment:  n duplicates = 99\n",
      "After Treatment:   n duplicates = 0\n"
     ]
    }
   ],
   "source": [
    "# removing duplicates\n",
    "print('Before Treatment:  n duplicates =', sum(data.duplicated())) \n",
    "if sum( data.duplicated() ) > 0:\n",
    "    data = data.drop_duplicates()\n",
    "    data.index = range( data.shape[0] )\n",
    "print('After Treatment:   n duplicates =', sum(data.duplicated())) "
   ]
  },
  {
   "cell_type": "code",
   "execution_count": 7,
   "metadata": {
    "scrolled": true
   },
   "outputs": [
    {
     "data": {
      "text/plain": [
       "text     0\n",
       "label    0\n",
       "dtype: int64"
      ]
     },
     "execution_count": 7,
     "metadata": {},
     "output_type": "execute_result"
    }
   ],
   "source": [
    "# removing null\n",
    "data = data.dropna()\n",
    "data.isnull().sum()"
   ]
  },
  {
   "cell_type": "code",
   "execution_count": 8,
   "metadata": {
    "scrolled": true
   },
   "outputs": [
    {
     "data": {
      "text/html": [
       "<div>\n",
       "<style scoped>\n",
       "    .dataframe tbody tr th:only-of-type {\n",
       "        vertical-align: middle;\n",
       "    }\n",
       "\n",
       "    .dataframe tbody tr th {\n",
       "        vertical-align: top;\n",
       "    }\n",
       "\n",
       "    .dataframe thead th {\n",
       "        text-align: right;\n",
       "    }\n",
       "</style>\n",
       "<table border=\"1\" class=\"dataframe\">\n",
       "  <thead>\n",
       "    <tr style=\"text-align: right;\">\n",
       "      <th></th>\n",
       "      <th>text</th>\n",
       "      <th>label</th>\n",
       "    </tr>\n",
       "  </thead>\n",
       "  <tbody>\n",
       "    <tr>\n",
       "      <th>count</th>\n",
       "      <td>2126</td>\n",
       "      <td>2126</td>\n",
       "    </tr>\n",
       "    <tr>\n",
       "      <th>unique</th>\n",
       "      <td>2126</td>\n",
       "      <td>5</td>\n",
       "    </tr>\n",
       "    <tr>\n",
       "      <th>top</th>\n",
       "      <td>tv future in the hands of viewers with home th...</td>\n",
       "      <td>sport</td>\n",
       "    </tr>\n",
       "    <tr>\n",
       "      <th>freq</th>\n",
       "      <td>1</td>\n",
       "      <td>504</td>\n",
       "    </tr>\n",
       "  </tbody>\n",
       "</table>\n",
       "</div>"
      ],
      "text/plain": [
       "                                                     text  label\n",
       "count                                                2126   2126\n",
       "unique                                               2126      5\n",
       "top     tv future in the hands of viewers with home th...  sport\n",
       "freq                                                    1    504"
      ]
     },
     "execution_count": 8,
     "metadata": {},
     "output_type": "execute_result"
    }
   ],
   "source": [
    "data.describe()"
   ]
  },
  {
   "cell_type": "code",
   "execution_count": 9,
   "metadata": {},
   "outputs": [
    {
     "data": {
      "text/plain": [
       "label\n",
       "sport            504\n",
       "business         503\n",
       "politics         403\n",
       "entertainment    369\n",
       "tech             347\n",
       "Name: count, dtype: int64"
      ]
     },
     "execution_count": 9,
     "metadata": {},
     "output_type": "execute_result"
    }
   ],
   "source": [
    "data['label'].value_counts()"
   ]
  },
  {
   "cell_type": "code",
   "execution_count": 10,
   "metadata": {},
   "outputs": [
    {
     "data": {
      "image/png": "[encoded data removed]",
      "text/plain": [
       "<Figure size 1300x300 with 1 Axes>"
      ]
     },
     "metadata": {},
     "output_type": "display_data"
    }
   ],
   "source": [
    "fig, ax = plt.subplots(figsize=(13,3))\n",
    "sns.countplot( data=data, x='label', ax=ax )\n",
    "plt.show()"
   ]
  },
  {
   "cell_type": "markdown",
   "metadata": {},
   "source": [
    "#####      \n",
    "<span style=\"font-family:Arial; font-weight:Bold; font-size:1.8em; color:#00b3e5;\"> NLP Preprocessing"
   ]
  },
  {
   "cell_type": "markdown",
   "metadata": {},
   "source": [
    "<span style=\"font-family:Arial; font-weight:Bold; font-size:1.5em; color:#00b3e5;\"> Remove New Lines"
   ]
  },
  {
   "cell_type": "code",
   "execution_count": 11,
   "metadata": {},
   "outputs": [],
   "source": [
    "# removing punctuations\n",
    "def remove_new_lines(text): return re.sub('[\\n]',' ', text)\n",
    "data['text'] = data['text'].apply(remove_new_lines)"
   ]
  },
  {
   "cell_type": "markdown",
   "metadata": {},
   "source": [
    "<span style=\"font-family:Arial; font-weight:Bold; font-size:1.5em; color:#00b3e5;\"> Remove Punctuations"
   ]
  },
  {
   "cell_type": "code",
   "execution_count": 12,
   "metadata": {},
   "outputs": [],
   "source": [
    "# removing punctuations\n",
    "def remove_punctuations(text): return re.sub('[^a-zA-Z]',' ', text)\n",
    "data['text'] = data['text'].apply(remove_punctuations)"
   ]
  },
  {
   "cell_type": "markdown",
   "metadata": {},
   "source": [
    "<span style=\"font-family:Arial; font-weight:Bold; font-size:1.5em; color:#00b3e5;\"> Converting to LowerCase"
   ]
  },
  {
   "cell_type": "code",
   "execution_count": 13,
   "metadata": {},
   "outputs": [],
   "source": [
    "# converting text to lower_case\n",
    "def into_lower(text): return text.lower()\n",
    "data['text'] = data['text'].apply(into_lower)"
   ]
  },
  {
   "cell_type": "markdown",
   "metadata": {},
   "source": [
    "<span style=\"font-family:Arial; font-weight:Bold; font-size:1.5em; color:#00b3e5;\"> Set & Remove Stop_Words"
   ]
  },
  {
   "cell_type": "markdown",
   "metadata": {},
   "source": [
    "<span style=\"font-family:Arial; font-weight:Bold; font-size:1.2em; color:#00b3e5;\"> Setting Stop_Words"
   ]
  },
  {
   "cell_type": "code",
   "execution_count": 14,
   "metadata": {},
   "outputs": [],
   "source": [
    "# Setting English StopWords\n",
    "stop_words = set( stopwords.words('english') )\n",
    "new_words  = [ 'some','one','like','time','br','movie','film','could','would','get','make','really','see',\n",
    "               'well','much','good','great','first','last','people','also','bad','worst','show','may','thing',\n",
    "               'make','go','think','know','watch','look','many','said','say','mr','new','take','told','back' ] \n",
    "stop_words = stop_words.union(new_words)"
   ]
  },
  {
   "cell_type": "markdown",
   "metadata": {},
   "source": [
    "<span style=\"font-family:Arial; font-weight:Bold; font-size:1.2em; color:#00b3e5;\"> Removing Stop_Words"
   ]
  },
  {
   "cell_type": "code",
   "execution_count": 15,
   "metadata": {
    "scrolled": true
   },
   "outputs": [
    {
     "data": {
      "text/html": [
       "<div>\n",
       "<style scoped>\n",
       "    .dataframe tbody tr th:only-of-type {\n",
       "        vertical-align: middle;\n",
       "    }\n",
       "\n",
       "    .dataframe tbody tr th {\n",
       "        vertical-align: top;\n",
       "    }\n",
       "\n",
       "    .dataframe thead th {\n",
       "        text-align: right;\n",
       "    }\n",
       "</style>\n",
       "<table border=\"1\" class=\"dataframe\">\n",
       "  <thead>\n",
       "    <tr style=\"text-align: right;\">\n",
       "      <th></th>\n",
       "      <th>text</th>\n",
       "      <th>label</th>\n",
       "    </tr>\n",
       "  </thead>\n",
       "  <tbody>\n",
       "    <tr>\n",
       "      <th>0</th>\n",
       "      <td>tv future hands viewers home theatre systems p...</td>\n",
       "      <td>tech</td>\n",
       "    </tr>\n",
       "    <tr>\n",
       "      <th>1</th>\n",
       "      <td>worldcom boss left books alone former worldcom...</td>\n",
       "      <td>business</td>\n",
       "    </tr>\n",
       "    <tr>\n",
       "      <th>2</th>\n",
       "      <td>tigers wary farrell gamble leicester rushed ma...</td>\n",
       "      <td>sport</td>\n",
       "    </tr>\n",
       "    <tr>\n",
       "      <th>3</th>\n",
       "      <td>yeading face newcastle fa cup premiership side...</td>\n",
       "      <td>sport</td>\n",
       "    </tr>\n",
       "    <tr>\n",
       "      <th>4</th>\n",
       "      <td>ocean twelve raids box office ocean twelve cri...</td>\n",
       "      <td>entertainment</td>\n",
       "    </tr>\n",
       "  </tbody>\n",
       "</table>\n",
       "</div>"
      ],
      "text/plain": [
       "                                                text          label\n",
       "0  tv future hands viewers home theatre systems p...           tech\n",
       "1  worldcom boss left books alone former worldcom...       business\n",
       "2  tigers wary farrell gamble leicester rushed ma...          sport\n",
       "3  yeading face newcastle fa cup premiership side...          sport\n",
       "4  ocean twelve raids box office ocean twelve cri...  entertainment"
      ]
     },
     "execution_count": 15,
     "metadata": {},
     "output_type": "execute_result"
    }
   ],
   "source": [
    "def remove_stop_words(text):\n",
    "    Clean = []\n",
    "    for word in text.split():\n",
    "        if word not in stop_words:\n",
    "            Clean.append(word) \n",
    "    return ' '.join( Clean )\n",
    "\n",
    "data['text'] = data['text'].apply( remove_stop_words )\n",
    "data.head()"
   ]
  },
  {
   "cell_type": "markdown",
   "metadata": {},
   "source": [
    "<span style=\"font-family:Arial; font-weight:Bold; font-size:1.5em; color:#00b3e5;\"> Lemmatizing"
   ]
  },
  {
   "cell_type": "code",
   "execution_count": 16,
   "metadata": {},
   "outputs": [
    {
     "data": {
      "text/html": [
       "<div>\n",
       "<style scoped>\n",
       "    .dataframe tbody tr th:only-of-type {\n",
       "        vertical-align: middle;\n",
       "    }\n",
       "\n",
       "    .dataframe tbody tr th {\n",
       "        vertical-align: top;\n",
       "    }\n",
       "\n",
       "    .dataframe thead th {\n",
       "        text-align: right;\n",
       "    }\n",
       "</style>\n",
       "<table border=\"1\" class=\"dataframe\">\n",
       "  <thead>\n",
       "    <tr style=\"text-align: right;\">\n",
       "      <th></th>\n",
       "      <th>text</th>\n",
       "      <th>label</th>\n",
       "    </tr>\n",
       "  </thead>\n",
       "  <tbody>\n",
       "    <tr>\n",
       "      <th>0</th>\n",
       "      <td>tv future hand viewer home theatre system plas...</td>\n",
       "      <td>tech</td>\n",
       "    </tr>\n",
       "    <tr>\n",
       "      <th>1</th>\n",
       "      <td>worldcom bos left book alone former worldcom b...</td>\n",
       "      <td>business</td>\n",
       "    </tr>\n",
       "    <tr>\n",
       "      <th>2</th>\n",
       "      <td>tiger wary farrell gamble leicester rushed mak...</td>\n",
       "      <td>sport</td>\n",
       "    </tr>\n",
       "    <tr>\n",
       "      <th>3</th>\n",
       "      <td>yeading face newcastle fa cup premiership side...</td>\n",
       "      <td>sport</td>\n",
       "    </tr>\n",
       "    <tr>\n",
       "      <th>4</th>\n",
       "      <td>ocean twelve raid box office ocean twelve crim...</td>\n",
       "      <td>entertainment</td>\n",
       "    </tr>\n",
       "  </tbody>\n",
       "</table>\n",
       "</div>"
      ],
      "text/plain": [
       "                                                text          label\n",
       "0  tv future hand viewer home theatre system plas...           tech\n",
       "1  worldcom bos left book alone former worldcom b...       business\n",
       "2  tiger wary farrell gamble leicester rushed mak...          sport\n",
       "3  yeading face newcastle fa cup premiership side...          sport\n",
       "4  ocean twelve raid box office ocean twelve crim...  entertainment"
      ]
     },
     "execution_count": 16,
     "metadata": {},
     "output_type": "execute_result"
    }
   ],
   "source": [
    "# Lemmatizing \n",
    "lemmatizer = WordNetLemmatizer()\n",
    "\n",
    "def lemmatize_text(text):\n",
    "    Clean = []\n",
    "    for word in text.split():\n",
    "        Clean.append( lemmatizer.lemmatize(word) )\n",
    "    return ' '.join( Clean )\n",
    "\n",
    "data['text'] = data['text'].apply(lemmatize_text)\n",
    "data.head()"
   ]
  },
  {
   "cell_type": "markdown",
   "metadata": {},
   "source": [
    "<span style=\"font-family:Arial; font-weight:Bold; font-size:1.5em; color:#00b3e5;\"> Stemming\n",
    " - Faster but less accurate than Lemmatizer"
   ]
  },
  {
   "cell_type": "code",
   "execution_count": 17,
   "metadata": {},
   "outputs": [],
   "source": [
    "# Stemming\n",
    "''' \n",
    "Stemmer = PorterStemmer()\n",
    "\n",
    "def stem_text(text):\n",
    "    Clean = []\n",
    "    for word in text.split():\n",
    "        Clean.append( Stemmer.stem(word) )\n",
    "    return ' '.join( Clean )\n",
    "\n",
    "data['text'] = data['text'].apply(stem_text)\n",
    "data.head()\n",
    "''' \n",
    "pass"
   ]
  },
  {
   "cell_type": "markdown",
   "metadata": {},
   "source": [
    "<span style=\"font-family:Arial; font-weight:Bold; font-size:1.5em; color:#00b3e5;\"> Bag of Words (List)"
   ]
  },
  {
   "cell_type": "code",
   "execution_count": 18,
   "metadata": {},
   "outputs": [
    {
     "data": {
      "text/plain": [
       "['tv', 'future', 'hand', 'viewer', 'home']"
      ]
     },
     "execution_count": 18,
     "metadata": {},
     "output_type": "execute_result"
    }
   ],
   "source": [
    "def bag_of_words_maker(df,ft):\n",
    "    texts = df[ft]\n",
    "    bag   = []\n",
    "    for text in texts:\n",
    "        for word in text.split():\n",
    "            bag.append( word )\n",
    "    return bag\n",
    "\n",
    "bag_of_words = bag_of_words_maker( data, 'text' )\n",
    "bag_of_words[:5]"
   ]
  },
  {
   "cell_type": "markdown",
   "metadata": {},
   "source": [
    "<span style=\"font-family:Arial; font-weight:Bold; font-size:1.5em; color:#00b3e5;\"> Bag of Words (DataFrame)"
   ]
  },
  {
   "cell_type": "code",
   "execution_count": 19,
   "metadata": {},
   "outputs": [
    {
     "data": {
      "text/html": [
       "<div>\n",
       "<style scoped>\n",
       "    .dataframe tbody tr th:only-of-type {\n",
       "        vertical-align: middle;\n",
       "    }\n",
       "\n",
       "    .dataframe tbody tr th {\n",
       "        vertical-align: top;\n",
       "    }\n",
       "\n",
       "    .dataframe thead th {\n",
       "        text-align: right;\n",
       "    }\n",
       "</style>\n",
       "<table border=\"1\" class=\"dataframe\">\n",
       "  <thead>\n",
       "    <tr style=\"text-align: right;\">\n",
       "      <th></th>\n",
       "      <th>word</th>\n",
       "    </tr>\n",
       "  </thead>\n",
       "  <tbody>\n",
       "    <tr>\n",
       "      <th>0</th>\n",
       "      <td>tv</td>\n",
       "    </tr>\n",
       "    <tr>\n",
       "      <th>1</th>\n",
       "      <td>future</td>\n",
       "    </tr>\n",
       "    <tr>\n",
       "      <th>2</th>\n",
       "      <td>hand</td>\n",
       "    </tr>\n",
       "  </tbody>\n",
       "</table>\n",
       "</div>"
      ],
      "text/plain": [
       "     word\n",
       "0      tv\n",
       "1  future\n",
       "2    hand"
      ]
     },
     "execution_count": 19,
     "metadata": {},
     "output_type": "execute_result"
    }
   ],
   "source": [
    "bag_of_words = pd.DataFrame( bag_of_words, columns=['word'] )\n",
    "bag_of_words.head(3)"
   ]
  },
  {
   "cell_type": "markdown",
   "metadata": {},
   "source": [
    "<span style=\"font-family:Arial; font-weight:Bold; font-size:1.5em; color:#00b3e5;\"> Words Count (DataFrame)"
   ]
  },
  {
   "cell_type": "code",
   "execution_count": 20,
   "metadata": {
    "scrolled": false
   },
   "outputs": [
    {
     "data": {
      "text/html": [
       "<div>\n",
       "<style scoped>\n",
       "    .dataframe tbody tr th:only-of-type {\n",
       "        vertical-align: middle;\n",
       "    }\n",
       "\n",
       "    .dataframe tbody tr th {\n",
       "        vertical-align: top;\n",
       "    }\n",
       "\n",
       "    .dataframe thead th {\n",
       "        text-align: right;\n",
       "    }\n",
       "</style>\n",
       "<table border=\"1\" class=\"dataframe\">\n",
       "  <thead>\n",
       "    <tr style=\"text-align: right;\">\n",
       "      <th></th>\n",
       "      <th>count</th>\n",
       "      <th>word</th>\n",
       "    </tr>\n",
       "  </thead>\n",
       "  <tbody>\n",
       "    <tr>\n",
       "      <th>0</th>\n",
       "      <td>3193</td>\n",
       "      <td>year</td>\n",
       "    </tr>\n",
       "    <tr>\n",
       "      <th>1</th>\n",
       "      <td>1938</td>\n",
       "      <td>u</td>\n",
       "    </tr>\n",
       "    <tr>\n",
       "      <th>2</th>\n",
       "      <td>1452</td>\n",
       "      <td>game</td>\n",
       "    </tr>\n",
       "    <tr>\n",
       "      <th>3</th>\n",
       "      <td>1235</td>\n",
       "      <td>two</td>\n",
       "    </tr>\n",
       "    <tr>\n",
       "      <th>4</th>\n",
       "      <td>1186</td>\n",
       "      <td>world</td>\n",
       "    </tr>\n",
       "  </tbody>\n",
       "</table>\n",
       "</div>"
      ],
      "text/plain": [
       "   count   word\n",
       "0   3193   year\n",
       "1   1938      u\n",
       "2   1452   game\n",
       "3   1235    two\n",
       "4   1186  world"
      ]
     },
     "execution_count": 20,
     "metadata": {},
     "output_type": "execute_result"
    }
   ],
   "source": [
    "words_count         = pd.DataFrame( bag_of_words[ 'word' ].value_counts() )\n",
    "words_count['word'] = words_count.index\n",
    "words_count.index   = range( words_count.shape[0] )\n",
    "words_count.head(5)"
   ]
  },
  {
   "cell_type": "markdown",
   "metadata": {},
   "source": [
    "<span style=\"font-family:Arial; font-weight:Bold; font-size:1.8em; color:#00b3e5;\"> Keeping Top Words"
   ]
  },
  {
   "cell_type": "code",
   "execution_count": 21,
   "metadata": {},
   "outputs": [
    {
     "data": {
      "text/plain": [
       "['year', 'u', 'game', 'two', 'world']"
      ]
     },
     "execution_count": 21,
     "metadata": {},
     "output_type": "execute_result"
    }
   ],
   "source": [
    "n = 1000\n",
    "Top_Words = words_count.loc[:n,'word'].tolist()\n",
    "Top_Words[:5]"
   ]
  },
  {
   "cell_type": "markdown",
   "metadata": {},
   "source": [
    "<span style=\"font-family:Arial; font-weight:Bold; font-size:1.8em; color:#00b3e5;\"> Text Reduction"
   ]
  },
  {
   "cell_type": "code",
   "execution_count": 22,
   "metadata": {},
   "outputs": [
    {
     "data": {
      "text/html": [
       "<div>\n",
       "<style scoped>\n",
       "    .dataframe tbody tr th:only-of-type {\n",
       "        vertical-align: middle;\n",
       "    }\n",
       "\n",
       "    .dataframe tbody tr th {\n",
       "        vertical-align: top;\n",
       "    }\n",
       "\n",
       "    .dataframe thead th {\n",
       "        text-align: right;\n",
       "    }\n",
       "</style>\n",
       "<table border=\"1\" class=\"dataframe\">\n",
       "  <thead>\n",
       "    <tr style=\"text-align: right;\">\n",
       "      <th></th>\n",
       "      <th>text</th>\n",
       "      <th>label</th>\n",
       "    </tr>\n",
       "  </thead>\n",
       "  <tbody>\n",
       "    <tr>\n",
       "      <th>0</th>\n",
       "      <td>tv future hand viewer home theatre system high...</td>\n",
       "      <td>tech</td>\n",
       "    </tr>\n",
       "    <tr>\n",
       "      <th>1</th>\n",
       "      <td>bos left book former bos accused bn bn fraud n...</td>\n",
       "      <td>business</td>\n",
       "    </tr>\n",
       "    <tr>\n",
       "      <th>2</th>\n",
       "      <td>making bid andy britain rugby league captain c...</td>\n",
       "      <td>sport</td>\n",
       "    </tr>\n",
       "    <tr>\n",
       "      <th>3</th>\n",
       "      <td>face newcastle cup premiership side newcastle ...</td>\n",
       "      <td>sport</td>\n",
       "    </tr>\n",
       "    <tr>\n",
       "      <th>4</th>\n",
       "      <td>box office crime robert gone number u box offi...</td>\n",
       "      <td>entertainment</td>\n",
       "    </tr>\n",
       "  </tbody>\n",
       "</table>\n",
       "</div>"
      ],
      "text/plain": [
       "                                                text          label\n",
       "0  tv future hand viewer home theatre system high...           tech\n",
       "1  bos left book former bos accused bn bn fraud n...       business\n",
       "2  making bid andy britain rugby league captain c...          sport\n",
       "3  face newcastle cup premiership side newcastle ...          sport\n",
       "4  box office crime robert gone number u box offi...  entertainment"
      ]
     },
     "execution_count": 22,
     "metadata": {},
     "output_type": "execute_result"
    }
   ],
   "source": [
    "def text_reduct( text ):\n",
    "    Clean = []\n",
    "    for word in text.split():\n",
    "        if word in Top_Words:\n",
    "            Clean.append(word)\n",
    "    return ' '.join(Clean)\n",
    "\n",
    "data['text'] = data['text'].apply(text_reduct)\n",
    "data.head()"
   ]
  },
  {
   "cell_type": "markdown",
   "metadata": {},
   "source": [
    "#####      \n",
    "<span style=\"font-family:Arial; font-weight:Bold; font-size:1.8em; color:#00b3e5;\"> Train-Valid-Test Split (Text)"
   ]
  },
  {
   "cell_type": "code",
   "execution_count": 23,
   "metadata": {},
   "outputs": [],
   "source": [
    "n  = data.shape[0]\n",
    "\n",
    "Train_Text  = data.text[           :int(.8*n) ]\n",
    "Valid_Text  = data.text[  int(.8*n):int(.9*n) ]\n",
    "Test_Text   = data.text[  int(.9*n):          ]\n",
    "\n",
    "Train_Label = data.label[          :int(.8*n) ]\n",
    "Valid_Label = data.label[ int(.8*n):int(.9*n) ]\n",
    "Test_Label  = data.label[ int(.9*n):          ]"
   ]
  },
  {
   "cell_type": "code",
   "execution_count": 24,
   "metadata": {},
   "outputs": [
    {
     "data": {
      "text/plain": [
       "1700    charge chelsea bos face football association a...\n",
       "1701    aim mobile gaming industry set number high dev...\n",
       "1702    injury england positive despite ruling six nat...\n",
       "Name: text, dtype: object"
      ]
     },
     "execution_count": 24,
     "metadata": {},
     "output_type": "execute_result"
    }
   ],
   "source": [
    "Valid_Text[:3]"
   ]
  },
  {
   "cell_type": "code",
   "execution_count": 25,
   "metadata": {},
   "outputs": [
    {
     "data": {
      "text/plain": [
       "1700    sport\n",
       "1701     tech\n",
       "1702    sport\n",
       "Name: label, dtype: object"
      ]
     },
     "execution_count": 25,
     "metadata": {},
     "output_type": "execute_result"
    }
   ],
   "source": [
    "Valid_Label[:3]"
   ]
  },
  {
   "cell_type": "markdown",
   "metadata": {},
   "source": [
    "#####      \n",
    "<span style=\"font-family:Arial; font-weight:Bold; font-size:1.8em; color:#00b3e5;\"> Cool Image of Top Phrases"
   ]
  },
  {
   "cell_type": "code",
   "execution_count": 26,
   "metadata": {},
   "outputs": [
    {
     "data": {
      "text/plain": [
       "[('year old', 273),\n",
       " ('prime minister', 230),\n",
       " ('chief executive', 164),\n",
       " ('bn bn', 161),\n",
       " ('bbc news', 136)]"
      ]
     },
     "execution_count": 26,
     "metadata": {},
     "output_type": "execute_result"
    }
   ],
   "source": [
    "vec=CountVectorizer( min_df=0, max_df=500, binary=False, ngram_range=(2,3) ).fit(Train_Text)\n",
    "bag=vec.transform(Train_Text)\n",
    "\n",
    "s = bag.sum(axis=0)\n",
    "f = [ (word,s[0,idx]) for word, idx in vec.vocabulary_.items() ]\n",
    "f = sorted( f, key=lambda x: x[1], reverse=True )\n",
    "f[:5]"
   ]
  },
  {
   "cell_type": "code",
   "execution_count": 27,
   "metadata": {},
   "outputs": [
    {
     "data": {
      "text/html": [
       "<div>\n",
       "<style scoped>\n",
       "    .dataframe tbody tr th:only-of-type {\n",
       "        vertical-align: middle;\n",
       "    }\n",
       "\n",
       "    .dataframe tbody tr th {\n",
       "        vertical-align: top;\n",
       "    }\n",
       "\n",
       "    .dataframe thead th {\n",
       "        text-align: right;\n",
       "    }\n",
       "</style>\n",
       "<table border=\"1\" class=\"dataframe\">\n",
       "  <thead>\n",
       "    <tr style=\"text-align: right;\">\n",
       "      <th></th>\n",
       "      <th>Word</th>\n",
       "      <th>Freq</th>\n",
       "    </tr>\n",
       "  </thead>\n",
       "  <tbody>\n",
       "    <tr>\n",
       "      <th>0</th>\n",
       "      <td>year old</td>\n",
       "      <td>273</td>\n",
       "    </tr>\n",
       "    <tr>\n",
       "      <th>1</th>\n",
       "      <td>prime minister</td>\n",
       "      <td>230</td>\n",
       "    </tr>\n",
       "    <tr>\n",
       "      <th>2</th>\n",
       "      <td>chief executive</td>\n",
       "      <td>164</td>\n",
       "    </tr>\n",
       "    <tr>\n",
       "      <th>3</th>\n",
       "      <td>bn bn</td>\n",
       "      <td>161</td>\n",
       "    </tr>\n",
       "    <tr>\n",
       "      <th>4</th>\n",
       "      <td>bbc news</td>\n",
       "      <td>136</td>\n",
       "    </tr>\n",
       "  </tbody>\n",
       "</table>\n",
       "</div>"
      ],
      "text/plain": [
       "              Word  Freq\n",
       "0         year old   273\n",
       "1   prime minister   230\n",
       "2  chief executive   164\n",
       "3            bn bn   161\n",
       "4         bbc news   136"
      ]
     },
     "execution_count": 27,
     "metadata": {},
     "output_type": "execute_result"
    }
   ],
   "source": [
    "Top_N = 30\n",
    "Top_Phrases = pd.DataFrame(f[:Top_N], columns=['Word','Freq'])\n",
    "Top_Phrases.head()"
   ]
  },
  {
   "cell_type": "code",
   "execution_count": 28,
   "metadata": {},
   "outputs": [
    {
     "data": {
      "text/plain": [
       "'year_old prime_minister chief_executive bn_bn bbc_news general_election tony_blair six_nation year_ago liberal_democrat mobile_phone two_year michael_howard next_year human_right bbc_radio five_year gordon_brown kilroy_silk interest_rate home_secretary three_month world_cup lib_dems manchester_united grand_slam long_term stock_market three_year news_website'"
      ]
     },
     "execution_count": 28,
     "metadata": {},
     "output_type": "execute_result"
    }
   ],
   "source": [
    "Top_Corpus = []\n",
    "for w in Top_Phrases['Word']:\n",
    "    w1,w2 = w.split()\n",
    "    Top_Corpus.append(str(w1+'_'+w2))\n",
    "Top_Corpus = ' '.join(Top_Corpus)\n",
    "Top_Corpus"
   ]
  },
  {
   "cell_type": "code",
   "execution_count": 29,
   "metadata": {},
   "outputs": [
    {
     "data": {
      "image/png": "[encoded data removed]",
      "text/plain": [
       "<Figure size 1300x400 with 1 Axes>"
      ]
     },
     "metadata": {},
     "output_type": "display_data"
    }
   ],
   "source": [
    "wordcloud = WordCloud( \n",
    "    \n",
    "    #background_color='LightSeaGreen', colormap='RdBu',\n",
    "    #background_color='black', colormap='Greens',\n",
    "    background_color='black', colormap='Blues',\n",
    "    \n",
    "    stopwords        = stop_words,\n",
    "    max_words        = Top_N,\n",
    "    max_font_size    = 50,\n",
    "    random_state     = 7 \n",
    "    ).generate( str(Top_Corpus) ) \n",
    "\n",
    "fig = plt.figure(figsize=(13,4))\n",
    "plt.imshow(wordcloud)\n",
    "plt.axis('off')\n",
    "plt.show()"
   ]
  },
  {
   "cell_type": "markdown",
   "metadata": {},
   "source": [
    "#####      \n",
    "<span style=\"font-family:Arial; font-weight:Bold; font-size:1.8em; color:#00b3e5;\"> Count Vectorizer"
   ]
  },
  {
   "cell_type": "code",
   "execution_count": 30,
   "metadata": {
    "scrolled": true
   },
   "outputs": [],
   "source": [
    "# Count vectorizer for bag of words\n",
    "cv=CountVectorizer( min_df=0, max_df=500, binary=False, ngram_range=(1,3) )"
   ]
  },
  {
   "cell_type": "code",
   "execution_count": 31,
   "metadata": {},
   "outputs": [],
   "source": [
    "# transformed Data\n",
    "CV_Train = cv.fit_transform( Train_Text )\n",
    "CV_Valid = cv.transform(     Valid_Text )\n",
    "CV_Test  = cv.transform(     Test_Text  )"
   ]
  },
  {
   "cell_type": "code",
   "execution_count": 32,
   "metadata": {},
   "outputs": [
    {
     "name": "stdout",
     "output_type": "stream",
     "text": [
      "BOW CV_Train: (1700, 292129)\n",
      "BOW CV_Valid: (213, 292129)\n",
      "BOW CV_Test:  (213, 292129)\n"
     ]
    }
   ],
   "source": [
    "print('BOW CV_Train:', CV_Train.shape)\n",
    "print('BOW CV_Valid:', CV_Valid.shape)\n",
    "print('BOW CV_Test: ', CV_Test.shape )"
   ]
  },
  {
   "cell_type": "code",
   "execution_count": 33,
   "metadata": {},
   "outputs": [
    {
     "data": {
      "text/plain": [
       "0       tv future hand viewer home theatre system high...\n",
       "1       bos left book former bos accused bn bn fraud n...\n",
       "2       making bid andy britain rugby league captain c...\n",
       "3       face newcastle cup premiership side newcastle ...\n",
       "4       box office crime robert gone number u box offi...\n",
       "                              ...                        \n",
       "1695    india bn deal air bn deal india low cost airli...\n",
       "1696    sell stake spain share group news stake london...\n",
       "1697    bos way side got european football cup win pla...\n",
       "1698    england former australian david england stop d...\n",
       "1699    mp income senior official two body private inc...\n",
       "Name: text, Length: 1700, dtype: object"
      ]
     },
     "execution_count": 33,
     "metadata": {},
     "output_type": "execute_result"
    }
   ],
   "source": [
    "Train_Text"
   ]
  },
  {
   "cell_type": "markdown",
   "metadata": {},
   "source": [
    "#####      \n",
    "<span style=\"font-family:Arial; font-weight:Bold; font-size:1.8em; color:#00b3e5;\"> TF-IDF Vectorizer"
   ]
  },
  {
   "cell_type": "code",
   "execution_count": 34,
   "metadata": {},
   "outputs": [],
   "source": [
    "# TF-IDF vectorizer for bag of words\n",
    "tf = TfidfVectorizer( min_df=0, max_df=500, use_idf=True, ngram_range=(1,3) )"
   ]
  },
  {
   "cell_type": "code",
   "execution_count": 35,
   "metadata": {},
   "outputs": [],
   "source": [
    "# transformed Data\n",
    "TF_Train = tf.fit_transform( Train_Text )\n",
    "TF_Valid = tf.transform(     Valid_Text )\n",
    "TF_Test  = tf.transform(     Test_Text  )"
   ]
  },
  {
   "cell_type": "code",
   "execution_count": 36,
   "metadata": {},
   "outputs": [
    {
     "name": "stdout",
     "output_type": "stream",
     "text": [
      "BOW TF_Train: (1700, 292129)\n",
      "BOW TF_Valid: (213, 292129)\n",
      "BOW TF_Test:  (213, 292129)\n"
     ]
    }
   ],
   "source": [
    "print('BOW TF_Train:', TF_Train.shape)\n",
    "print('BOW TF_Valid:', TF_Valid.shape)\n",
    "print('BOW TF_Test: ', TF_Test.shape )"
   ]
  },
  {
   "cell_type": "markdown",
   "metadata": {},
   "source": [
    "#####      \n",
    "<span style=\"font-family:Arial; font-weight:Bold; font-size:1.8em; color:#00b3e5;\"> Logistic Regression Model"
   ]
  },
  {
   "cell_type": "code",
   "execution_count": 37,
   "metadata": {},
   "outputs": [],
   "source": [
    "model = LogisticRegression( penalty='l2', max_iter=500, C=1, random_state=7 )"
   ]
  },
  {
   "cell_type": "markdown",
   "metadata": {},
   "source": [
    "<span style=\"font-family:Arial; font-weight:Bold; font-size:1.5em; color:#00b3e5;\"> Model with Count Vectorizer"
   ]
  },
  {
   "cell_type": "code",
   "execution_count": 38,
   "metadata": {
    "scrolled": true
   },
   "outputs": [
    {
     "name": "stdout",
     "output_type": "stream",
     "text": [
      "LogisticRegression(C=1, max_iter=500, random_state=7)\n"
     ]
    }
   ],
   "source": [
    "# Fitting\n",
    "CV_Model = model.fit( CV_Train, Train_Label )\n",
    "print(CV_Model)"
   ]
  },
  {
   "cell_type": "code",
   "execution_count": 39,
   "metadata": {
    "scrolled": true
   },
   "outputs": [
    {
     "data": {
      "text/plain": [
       "array(['sport', 'tech', 'sport', 'tech', 'sport', 'sport', 'business',\n",
       "       'business', 'tech', 'sport', 'business', 'tech', 'politics',\n",
       "       'sport', 'business', 'entertainment', 'entertainment', 'tech',\n",
       "       'politics', 'sport', 'sport', 'business', 'tech', 'entertainment',\n",
       "       'entertainment', 'politics', 'politics', 'business', 'sport',\n",
       "       'entertainment', 'entertainment', 'business', 'sport', 'politics',\n",
       "       'business', 'sport', 'entertainment', 'tech', 'politics',\n",
       "       'politics', 'sport', 'sport', 'politics', 'business', 'business',\n",
       "       'business', 'business', 'entertainment', 'business', 'politics',\n",
       "       'politics', 'tech', 'tech', 'entertainment', 'politics',\n",
       "       'entertainment', 'business', 'politics', 'sport', 'sport',\n",
       "       'entertainment', 'tech', 'business', 'sport', 'business',\n",
       "       'business', 'politics', 'sport', 'sport', 'politics', 'politics',\n",
       "       'entertainment', 'entertainment', 'politics', 'business',\n",
       "       'politics', 'politics', 'business', 'politics', 'politics',\n",
       "       'politics', 'politics', 'politics', 'entertainment', 'tech',\n",
       "       'tech', 'sport', 'politics', 'sport', 'tech', 'sport', 'sport',\n",
       "       'sport', 'entertainment', 'entertainment', 'tech', 'sport', 'tech',\n",
       "       'sport', 'sport', 'entertainment', 'entertainment', 'business',\n",
       "       'entertainment', 'entertainment', 'politics', 'business', 'sport',\n",
       "       'politics', 'business', 'sport', 'business', 'entertainment',\n",
       "       'sport', 'politics', 'entertainment', 'sport', 'sport', 'business',\n",
       "       'politics', 'tech', 'business', 'business', 'sport',\n",
       "       'entertainment', 'sport', 'sport', 'politics', 'entertainment',\n",
       "       'tech', 'sport', 'business', 'politics', 'sport', 'business',\n",
       "       'tech', 'entertainment', 'sport', 'politics', 'business',\n",
       "       'entertainment', 'politics', 'entertainment', 'politics', 'sport',\n",
       "       'politics', 'business', 'business', 'politics', 'business', 'tech',\n",
       "       'sport', 'business', 'entertainment', 'business', 'sport', 'sport',\n",
       "       'politics', 'tech', 'politics', 'politics', 'sport', 'sport',\n",
       "       'sport', 'business', 'tech', 'entertainment', 'business', 'sport',\n",
       "       'business', 'business', 'business', 'tech', 'business', 'business',\n",
       "       'business', 'business', 'sport', 'sport', 'sport', 'business',\n",
       "       'business', 'entertainment', 'business', 'business', 'business',\n",
       "       'sport', 'sport', 'sport', 'business', 'sport', 'sport', 'sport',\n",
       "       'business', 'entertainment', 'tech', 'tech', 'tech', 'politics',\n",
       "       'business', 'business', 'business', 'tech', 'sport', 'sport',\n",
       "       'politics', 'politics', 'politics', 'sport', 'sport', 'politics',\n",
       "       'politics', 'business'], dtype=object)"
      ]
     },
     "execution_count": 39,
     "metadata": {},
     "output_type": "execute_result"
    }
   ],
   "source": [
    "# Predicting\n",
    "CV_Pred = CV_Model.predict( CV_Valid )\n",
    "CV_Pred"
   ]
  },
  {
   "cell_type": "code",
   "execution_count": 40,
   "metadata": {
    "scrolled": true
   },
   "outputs": [
    {
     "name": "stdout",
     "output_type": "stream",
     "text": [
      "CV_Score : 0.971830985915493\n"
     ]
    }
   ],
   "source": [
    "# Scoring (Accuracy)  \n",
    "CV_Score = accuracy_score( CV_Pred, Valid_Label )\n",
    "print(\"CV_Score :\",CV_Score)"
   ]
  },
  {
   "cell_type": "markdown",
   "metadata": {},
   "source": [
    "<span style=\"font-family:Arial; font-weight:Bold; font-size:1.5em; color:#00b3e5;\"> Model with TF-IDF Vectorizer"
   ]
  },
  {
   "cell_type": "code",
   "execution_count": 41,
   "metadata": {
    "scrolled": true
   },
   "outputs": [
    {
     "name": "stdout",
     "output_type": "stream",
     "text": [
      "LogisticRegression(C=1, max_iter=500, random_state=7)\n"
     ]
    }
   ],
   "source": [
    "# Fitting\n",
    "TF_Model = model.fit( TF_Train, Train_Label )\n",
    "print(TF_Model)"
   ]
  },
  {
   "cell_type": "code",
   "execution_count": 42,
   "metadata": {
    "scrolled": true
   },
   "outputs": [
    {
     "data": {
      "text/plain": [
       "array(['sport', 'tech', 'sport', 'tech', 'sport', 'sport', 'business',\n",
       "       'business', 'tech', 'sport', 'business', 'tech', 'politics',\n",
       "       'sport', 'business', 'entertainment', 'entertainment', 'tech',\n",
       "       'politics', 'sport', 'sport', 'business', 'tech', 'entertainment',\n",
       "       'entertainment', 'politics', 'politics', 'business', 'sport',\n",
       "       'entertainment', 'entertainment', 'business', 'sport', 'politics',\n",
       "       'business', 'sport', 'entertainment', 'tech', 'politics',\n",
       "       'politics', 'sport', 'sport', 'politics', 'business', 'business',\n",
       "       'business', 'business', 'entertainment', 'business', 'politics',\n",
       "       'politics', 'tech', 'tech', 'entertainment', 'politics',\n",
       "       'entertainment', 'business', 'politics', 'sport', 'sport',\n",
       "       'business', 'tech', 'business', 'sport', 'business', 'business',\n",
       "       'politics', 'sport', 'sport', 'politics', 'politics',\n",
       "       'entertainment', 'entertainment', 'politics', 'business',\n",
       "       'politics', 'politics', 'business', 'politics', 'politics',\n",
       "       'politics', 'politics', 'politics', 'entertainment', 'tech',\n",
       "       'business', 'sport', 'politics', 'sport', 'tech', 'sport', 'sport',\n",
       "       'sport', 'entertainment', 'entertainment', 'tech', 'sport', 'tech',\n",
       "       'sport', 'sport', 'entertainment', 'entertainment', 'business',\n",
       "       'entertainment', 'entertainment', 'politics', 'business', 'sport',\n",
       "       'politics', 'business', 'sport', 'business', 'entertainment',\n",
       "       'sport', 'politics', 'entertainment', 'sport', 'sport', 'business',\n",
       "       'politics', 'tech', 'business', 'business', 'sport',\n",
       "       'entertainment', 'sport', 'sport', 'politics', 'entertainment',\n",
       "       'tech', 'sport', 'business', 'politics', 'sport', 'politics',\n",
       "       'tech', 'entertainment', 'sport', 'politics', 'business',\n",
       "       'entertainment', 'politics', 'entertainment', 'politics', 'sport',\n",
       "       'politics', 'business', 'business', 'politics', 'business', 'tech',\n",
       "       'sport', 'business', 'entertainment', 'business', 'sport', 'sport',\n",
       "       'entertainment', 'tech', 'politics', 'politics', 'sport', 'sport',\n",
       "       'sport', 'business', 'tech', 'entertainment', 'business', 'sport',\n",
       "       'business', 'business', 'business', 'tech', 'business', 'business',\n",
       "       'business', 'business', 'sport', 'sport', 'sport', 'business',\n",
       "       'business', 'entertainment', 'business', 'business', 'business',\n",
       "       'sport', 'sport', 'sport', 'tech', 'sport', 'sport', 'sport',\n",
       "       'business', 'entertainment', 'tech', 'tech', 'tech', 'politics',\n",
       "       'business', 'business', 'business', 'tech', 'sport', 'sport',\n",
       "       'politics', 'politics', 'politics', 'sport', 'sport', 'politics',\n",
       "       'politics', 'business'], dtype=object)"
      ]
     },
     "execution_count": 42,
     "metadata": {},
     "output_type": "execute_result"
    }
   ],
   "source": [
    "# Predicting\n",
    "TF_Pred = TF_Model.predict( TF_Valid )\n",
    "TF_Pred"
   ]
  },
  {
   "cell_type": "code",
   "execution_count": 43,
   "metadata": {
    "scrolled": true
   },
   "outputs": [
    {
     "name": "stdout",
     "output_type": "stream",
     "text": [
      "TF_Score : 0.9812206572769953\n"
     ]
    }
   ],
   "source": [
    "# Scoring (Accuracy)  \n",
    "TF_Score = accuracy_score( TF_Pred, Valid_Label )\n",
    "print(\"TF_Score :\",TF_Score)"
   ]
  },
  {
   "cell_type": "markdown",
   "metadata": {},
   "source": [
    "#####   "
   ]
  },
  {
   "cell_type": "markdown",
   "metadata": {},
   "source": [
    "#####   "
   ]
  }
 ],
 "metadata": {
  "kernelspec": {
   "display_name": "Python 3 (ipykernel)",
   "language": "python",
   "name": "python3"
  },
  "language_info": {
   "codemirror_mode": {
    "name": "ipython",
    "version": 3
   },
   "file_extension": ".py",
   "mimetype": "text/x-python",
   "name": "python",
   "nbconvert_exporter": "python",
   "pygments_lexer": "ipython3",
   "version": "3.10.13"
  }
 },
 "nbformat": 4,
 "nbformat_minor": 4
}
