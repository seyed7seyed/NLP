{
 "cells": [
  {
   "cell_type": "markdown",
   "id": "5efd1240",
   "metadata": {},
   "source": [
    "#####   \n",
    "<span style=\"font-family:MV Boli; font-weight:Bold; font-size:2.3em; color:#00b3e5;\"> re  \n",
    " - **functions:**\n",
    "    - a = re.search( **\"**??**\"**, Text )\n",
    "        - a.span()\n",
    "        - a.string\n",
    "        - a.group()\n",
    "    - b = re.findall( **\"**??**\"**, Text )\n",
    "    - c = re.slipt( **\" \"**, Text )\n",
    "    - d = re.sub( **\"**??**\"**, **\"**????**\"**, Text )"
   ]
  },
  {
   "cell_type": "markdown",
   "id": "8643cadf",
   "metadata": {},
   "source": [
    "#####   \n",
    "<span style=\"font-family:MV Boli; font-weight:Bold; font-size:1.8em; color:#00b3e5;\"> Importing Library"
   ]
  },
  {
   "cell_type": "code",
   "execution_count": 1,
   "id": "fe150394",
   "metadata": {},
   "outputs": [],
   "source": [
    "import re"
   ]
  },
  {
   "cell_type": "markdown",
   "id": "5d4d8887",
   "metadata": {},
   "source": [
    "#####   \n",
    "<span style=\"font-family:MV Boli; font-weight:Bold; font-size:1.8em; color:#00b3e5;\"> Text"
   ]
  },
  {
   "cell_type": "code",
   "execution_count": 2,
   "id": "d5dbc326",
   "metadata": {},
   "outputs": [],
   "source": [
    "my_text = \"Tutorial from Great Learning\""
   ]
  },
  {
   "cell_type": "markdown",
   "id": "c7a828ea",
   "metadata": {},
   "source": [
    "#####   \n",
    "<span style=\"font-family:MV Boli; font-weight:Bold; font-size:1.8em; color:#00b3e5;\"> re.search()"
   ]
  },
  {
   "cell_type": "code",
   "execution_count": 3,
   "id": "c92ace71",
   "metadata": {},
   "outputs": [
    {
     "name": "stdout",
     "output_type": "stream",
     "text": [
      "None\n"
     ]
    }
   ],
   "source": [
    "a = re.search(\"aa\",my_text)\n",
    "print(a)\n",
    "#print(a.span())\n",
    "#print(a.string)\n",
    "#print(a.group())"
   ]
  },
  {
   "cell_type": "code",
   "execution_count": 4,
   "id": "e5192ac2",
   "metadata": {},
   "outputs": [
    {
     "name": "stdout",
     "output_type": "stream",
     "text": [
      "<re.Match object; span=(16, 18), match='ea'>\n",
      "(16, 18)\n",
      "Tutorial from Great Learning\n",
      "ea\n"
     ]
    }
   ],
   "source": [
    "a = re.search(\"ea\",my_text)\n",
    "print(a)\n",
    "print(a.span())\n",
    "print(a.string)\n",
    "print(a.group())"
   ]
  },
  {
   "cell_type": "markdown",
   "id": "f1c44cbe",
   "metadata": {},
   "source": [
    "#####   \n",
    "<span style=\"font-family:MV Boli; font-weight:Bold; font-size:1.8em; color:#00b3e5;\"> re.findall()"
   ]
  },
  {
   "cell_type": "code",
   "execution_count": 5,
   "id": "53eab795",
   "metadata": {},
   "outputs": [
    {
     "name": "stdout",
     "output_type": "stream",
     "text": [
      "['ea', 'ea']\n"
     ]
    }
   ],
   "source": [
    "a = re.findall(\"ea\",my_text)\n",
    "print(a)"
   ]
  },
  {
   "cell_type": "code",
   "execution_count": 6,
   "id": "232ba4a5",
   "metadata": {
    "scrolled": true
   },
   "outputs": [
    {
     "name": "stdout",
     "output_type": "stream",
     "text": [
      "[]\n"
     ]
    }
   ],
   "source": [
    "a = re.findall(\"zz\",my_text)\n",
    "print(a)"
   ]
  },
  {
   "cell_type": "code",
   "execution_count": 7,
   "id": "bf5ae535",
   "metadata": {},
   "outputs": [
    {
     "name": "stdout",
     "output_type": "stream",
     "text": [
      "[' ', ' ', ' ']\n"
     ]
    }
   ],
   "source": [
    "a = re.findall(\" \",my_text)\n",
    "print(a)"
   ]
  },
  {
   "cell_type": "markdown",
   "id": "72f184c0",
   "metadata": {},
   "source": [
    "#####   \n",
    "<span style=\"font-family:MV Boli; font-weight:Bold; font-size:1.8em; color:#00b3e5;\"> re.split()"
   ]
  },
  {
   "cell_type": "code",
   "execution_count": 8,
   "id": "031d73dd",
   "metadata": {},
   "outputs": [
    {
     "name": "stdout",
     "output_type": "stream",
     "text": [
      "['Tutorial', 'from', 'Great', 'Learning']\n"
     ]
    }
   ],
   "source": [
    "a = re.split(\" \",my_text)\n",
    "print(a)"
   ]
  },
  {
   "cell_type": "code",
   "execution_count": 9,
   "id": "ffc57a69",
   "metadata": {},
   "outputs": [
    {
     "name": "stdout",
     "output_type": "stream",
     "text": [
      "['Tutorial from Great Learning']\n"
     ]
    }
   ],
   "source": [
    "a = re.split(\"zz\",my_text)\n",
    "print(a)"
   ]
  },
  {
   "cell_type": "markdown",
   "id": "0240d3bf",
   "metadata": {},
   "source": [
    "#####   \n",
    "<span style=\"font-family:MV Boli; font-weight:Bold; font-size:1.8em; color:#00b3e5;\"> re.sub()"
   ]
  },
  {
   "cell_type": "code",
   "execution_count": 10,
   "id": "129fe315",
   "metadata": {},
   "outputs": [
    {
     "name": "stdout",
     "output_type": "stream",
     "text": [
      "Tutorial ... from ... Great ... Learning\n"
     ]
    }
   ],
   "source": [
    "a = re.sub(\" \",\" ... \",my_text)\n",
    "print(a)"
   ]
  },
  {
   "cell_type": "markdown",
   "id": "e52cf273",
   "metadata": {},
   "source": [
    "#####    "
   ]
  },
  {
   "cell_type": "markdown",
   "id": "d072b3e4",
   "metadata": {},
   "source": [
    "#####    "
   ]
  },
  {
   "cell_type": "markdown",
   "id": "f908dbe2",
   "metadata": {},
   "source": [
    "#####    "
   ]
  }
 ],
 "metadata": {
  "kernelspec": {
   "display_name": "Python 3 (ipykernel)",
   "language": "python",
   "name": "python3"
  },
  "language_info": {
   "codemirror_mode": {
    "name": "ipython",
    "version": 3
   },
   "file_extension": ".py",
   "mimetype": "text/x-python",
   "name": "python",
   "nbconvert_exporter": "python",
   "pygments_lexer": "ipython3",
   "version": "3.10.13"
  }
 },
 "nbformat": 4,
 "nbformat_minor": 5
}
